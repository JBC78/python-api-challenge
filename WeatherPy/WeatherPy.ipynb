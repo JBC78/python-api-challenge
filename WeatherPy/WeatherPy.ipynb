{
 "cells": [
  {
   "cell_type": "code",
   "execution_count": 26,
   "metadata": {},
   "outputs": [],
   "source": [
    "# Your first requirement is to create a series of scatter plots to showcase the following relationships:\n",
    "# Temperature (F) vs. Latitude\n",
    "# Humidity (%) vs. Latitude\n",
    "# Cloudiness (%) vs. Latitude\n",
    "# Wind Speed (mph) vs. Latitude\n",
    "\n",
    "# dependencies \n",
    "import matplotlib.pyplot as plt\n",
    "import json\n",
    "import requests\n",
    "import pandas as pd\n",
    "import numpy as np\n",
    "import time\n",
    "\n",
    "# Output File (CSV)\n",
    "output_data_file = \"output_data/cities.csv\"\n",
    "\n",
    "# incorporated citipy to determine city based on latitude and longitude\n",
    "from citipy import citipy\n",
    "\n",
    "# api_key\n",
    "from api_key import api_key\n",
    "\n",
    "# Range of latitudes and longitudes\n",
    "lat_range = {'min': -90, 'max': 90}\n",
    "lon_range = {'min': -180, 'max': 180}\n",
    "\n",
    "lat_values = np.arange(lat_range['min'], lat_range['max'], 0.01)\n",
    "lon_values = np.arange(lon_range['min'], lon_range['max'], 0.01)"
   ]
  },
  {
   "cell_type": "code",
   "execution_count": 35,
   "metadata": {},
   "outputs": [
    {
     "data": {
      "text/plain": [
       "1"
      ]
     },
     "execution_count": 35,
     "metadata": {},
     "output_type": "execute_result"
    }
   ],
   "source": [
    "# latitiude and longitude empty lists\n",
    "lat_lon = []\n",
    "cities = []\n",
    "\n",
    "# Create a random numpy array of lat and lon variables\n",
    "lat_np = np.random.uniform(low=-90.000, high=90.000, size=500)\n",
    "lon_np= np.random.uniform(low=-180.000, high=180.000, size=500)\n",
    "lat_lon = next(zip(lat_np, lon_np))\n",
    "\n",
    "# Identify nearest city for each lat, lon coordinates combo\n",
    "for lat_lons in lat_lon:\n",
    "    city = citipy.nearest_city(lat_lon[0], lat_lon[1]).city_name\n",
    "    \n",
    "    # If the city is unique, then append to cities list\n",
    "    if city not in cities:\n",
    "        cities.append(city)\n",
    "\n",
    "# Print the city count to confirm sufficient count\n",
    "len(cities)"
   ]
  },
  {
   "cell_type": "code",
   "execution_count": null,
   "metadata": {},
   "outputs": [],
   "source": []
  }
 ],
 "metadata": {
  "kernelspec": {
   "display_name": "Python 3",
   "language": "python",
   "name": "python3"
  },
  "language_info": {
   "codemirror_mode": {
    "name": "ipython",
    "version": 3
   },
   "file_extension": ".py",
   "mimetype": "text/x-python",
   "name": "python",
   "nbconvert_exporter": "python",
   "pygments_lexer": "ipython3",
   "version": "3.8.5"
  }
 },
 "nbformat": 4,
 "nbformat_minor": 4
}
